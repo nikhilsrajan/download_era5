{
 "cells": [
  {
   "cell_type": "code",
   "execution_count": 1,
   "metadata": {},
   "outputs": [],
   "source": [
    "import cdsapi\n",
    "import xarray as xr\n",
    "import time\n",
    "import rioxarray as rio"
   ]
  },
  {
   "cell_type": "code",
   "execution_count": 2,
   "metadata": {},
   "outputs": [],
   "source": [
    "import sys\n",
    "sys.path.append('..')"
   ]
  },
  {
   "cell_type": "code",
   "execution_count": 3,
   "metadata": {},
   "outputs": [],
   "source": [
    "import utils"
   ]
  },
  {
   "cell_type": "code",
   "execution_count": null,
   "metadata": {},
   "outputs": [],
   "source": [
    "start_time = time.time()\n",
    "\n",
    "dataset = \"derived-era5-single-levels-daily-statistics\"\n",
    "request = {\n",
    "    \"product_type\": \"reanalysis\",\n",
    "    \"variable\": [\"total_precipitation\",],\n",
    "    \"year\": \"2020\",\n",
    "    \"month\": [\"01\"],\n",
    "    \"day\": [\"01\"],\n",
    "    \"daily_statistic\": \"daily_sum\",\n",
    "    \"time_zone\": \"utc+00:00\",\n",
    "    \"frequency\": \"1_hourly\",\n",
    "    \"format\": \"netcdf\",\n",
    "}\n",
    "\n",
    "client = cdsapi.Client()\n",
    "client.retrieve(dataset, request).download(\"../data/output.nc\")\n",
    "\n",
    "end_time = time.time()\n",
    "\n",
    "print(f't_elapsed: {end_time - start_time}')"
   ]
  },
  {
   "cell_type": "code",
   "execution_count": 43,
   "metadata": {},
   "outputs": [],
   "source": [
    "ncfile = xr.open_dataset('../data/output.nc')"
   ]
  },
  {
   "cell_type": "code",
   "execution_count": null,
   "metadata": {},
   "outputs": [],
   "source": [
    "ncfile"
   ]
  },
  {
   "cell_type": "code",
   "execution_count": null,
   "metadata": {},
   "outputs": [],
   "source": [
    "ncfile['tp'].coords['longitude']"
   ]
  },
  {
   "cell_type": "code",
   "execution_count": 70,
   "metadata": {},
   "outputs": [],
   "source": [
    "tp = ncfile['tp']\n",
    "tp = tp * 1000 # m to mm\n",
    "tp.coords['longitude'] = (tp.coords['longitude'] + 180) % 360 - 180\n",
    "tp = tp.sortby('longitude')"
   ]
  },
  {
   "cell_type": "code",
   "execution_count": 72,
   "metadata": {},
   "outputs": [],
   "source": [
    "tp = tp.rio.set_spatial_dims('longitude', 'latitude')\n",
    "tp = tp.rio.write_crs('epsg:4326')"
   ]
  },
  {
   "cell_type": "code",
   "execution_count": 75,
   "metadata": {},
   "outputs": [],
   "source": [
    "tp.rio.to_raster('../data/output.tif', compress='zstd')"
   ]
  },
  {
   "cell_type": "code",
   "execution_count": null,
   "metadata": {},
   "outputs": [],
   "source": []
  },
  {
   "cell_type": "code",
   "execution_count": null,
   "metadata": {},
   "outputs": [],
   "source": [
    "import datetime\n",
    "\n",
    "utils.download_data(\n",
    "    variable = '2m_temperature',\n",
    "    daily_statistic = 'daily_mean',\n",
    "    date = datetime.datetime(2020, 2, 1),\n",
    "    download_filepath = '../data/2mtemp_2021_02.nc',\n",
    "    exist_ok = True,\n",
    "    request_full_month = True,\n",
    ")"
   ]
  },
  {
   "cell_type": "code",
   "execution_count": null,
   "metadata": {},
   "outputs": [],
   "source": [
    "12 * 30 * 172 / 3600"
   ]
  },
  {
   "cell_type": "code",
   "execution_count": null,
   "metadata": {},
   "outputs": [],
   "source": [
    "ncfile = xr.open_dataset('../data/2mtemp_2021_02.nc')\n",
    "ncfile"
   ]
  },
  {
   "cell_type": "code",
   "execution_count": 12,
   "metadata": {},
   "outputs": [],
   "source": [
    "t2m = ncfile['t2m']\n",
    "t2m = t2m - 273.15 # K to deg C\n",
    "t2m.coords['longitude'] = (t2m.coords['longitude'] + 180) % 360 - 180\n",
    "t2m = t2m.sortby('longitude')\n",
    "t2m = t2m.rio.set_spatial_dims('longitude', 'latitude')\n",
    "t2m = t2m.rio.write_crs('epsg:4326')\n",
    "t2m.rio.to_raster('../data/2mtemp_2020_02.tif', compress='zstd')"
   ]
  },
  {
   "cell_type": "code",
   "execution_count": null,
   "metadata": {},
   "outputs": [],
   "source": [
    "t2m"
   ]
  },
  {
   "cell_type": "code",
   "execution_count": 11,
   "metadata": {},
   "outputs": [],
   "source": [
    "import geopandas as gpd\n",
    "\n",
    "malawi_gdf = gpd.read_file('/Users/nikhilsrajan/NASA-Harvest/project/fetch_satdata/data/malawi/mwi_adm_nso_hotosm_20230405_shp/mwi_admbnda_adm0_nso_hotosm_20230405.shp')"
   ]
  },
  {
   "cell_type": "code",
   "execution_count": null,
   "metadata": {},
   "outputs": [],
   "source": [
    "def load_mean_temperature_nc_file(nc_filepath:str):\n",
    "    ncfile = xr.open_dataset(nc_filepath)\n",
    "    t2m = ncfile['t2m']\n",
    "    t2m = t2m - 273.15 # K to deg C\n",
    "    t2m.coords['longitude'] = (t2m.coords['longitude'] + 180) % 360 - 180\n",
    "    t2m = t2m.sortby('longitude')\n",
    "    t2m = t2m.rio.set_spatial_dims('longitude', 'latitude')\n",
    "    t2m = t2m.rio.write_crs('epsg:4326')\n",
    "    return t2m\n",
    "\n",
    "\n",
    "def load_total_precipitation_nc_file(nc_filepath:str):\n",
    "    ncfile = xr.open_dataset(nc_filepath)\n",
    "    tp = ncfile['tp']\n",
    "    tp = tp * 1000 # m to mm\n",
    "    tp.coords['longitude'] = (tp.coords['longitude'] + 180) % 360 - 180\n",
    "    tp = tp.sortby('longitude')\n",
    "    tp = tp.rio.set_spatial_dims('longitude', 'latitude')\n",
    "    tp = tp.rio.write_crs('epsg:4326')\n",
    "    return tp"
   ]
  },
  {
   "cell_type": "code",
   "execution_count": null,
   "metadata": {},
   "outputs": [],
   "source": [
    "150 * (4930 * 2) / (64 / 16) / 3600 / 24"
   ]
  },
  {
   "cell_type": "code",
   "execution_count": null,
   "metadata": {},
   "outputs": [],
   "source": [
    "45 * (4930 * 2) / (64 / 16) / 3600"
   ]
  },
  {
   "cell_type": "code",
   "execution_count": null,
   "metadata": {},
   "outputs": [],
   "source": [
    "import json\n",
    "\n",
    "with open('../data/cdsapi_credentials.json', 'r') as h:\n",
    "    credentials = json.load(h)\n",
    "\n",
    "URL = credentials['url']\n",
    "KEY = credentials['key']\n",
    "\n",
    "URL, KEY"
   ]
  },
  {
   "cell_type": "code",
   "execution_count": null,
   "metadata": {},
   "outputs": [],
   "source": []
  }
 ],
 "metadata": {
  "kernelspec": {
   "display_name": ".venv",
   "language": "python",
   "name": "python3"
  },
  "language_info": {
   "codemirror_mode": {
    "name": "ipython",
    "version": 3
   },
   "file_extension": ".py",
   "mimetype": "text/x-python",
   "name": "python",
   "nbconvert_exporter": "python",
   "pygments_lexer": "ipython3",
   "version": "3.10.14"
  }
 },
 "nbformat": 4,
 "nbformat_minor": 2
}
