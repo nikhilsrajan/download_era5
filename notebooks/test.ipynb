{
 "cells": [
  {
   "cell_type": "code",
   "execution_count": 1,
   "metadata": {},
   "outputs": [],
   "source": [
    "import cdsapi\n",
    "import xarray as xr\n",
    "import time\n",
    "import rioxarray as rio"
   ]
  },
  {
   "cell_type": "code",
   "execution_count": 2,
   "metadata": {},
   "outputs": [],
   "source": [
    "import sys\n",
    "sys.path.append('..')"
   ]
  },
  {
   "cell_type": "code",
   "execution_count": 3,
   "metadata": {},
   "outputs": [],
   "source": [
    "import utils"
   ]
  },
  {
   "cell_type": "code",
   "execution_count": null,
   "metadata": {},
   "outputs": [],
   "source": [
    "import datetime\n",
    "\n",
    "utils.download_data(\n",
    "    variable = '2m_temperature',\n",
    "    daily_statistic = 'daily_mean',\n",
    "    date = datetime.datetime(2020, 2, 1),\n",
    "    download_filepath = '../data/2mtemp_2021_02.nc',\n",
    "    exist_ok = True,\n",
    "    request_full_month = True,\n",
    ")"
   ]
  },
  {
   "cell_type": "code",
   "execution_count": null,
   "metadata": {},
   "outputs": [],
   "source": [
    "t2m = utils.load_mean_temperature_nc_file(\n",
    "    nc_filepath = '../data/2mtemp_2021_02.nc',\n",
    ")\n",
    "\n",
    "type(t2m)"
   ]
  },
  {
   "cell_type": "code",
   "execution_count": null,
   "metadata": {},
   "outputs": [],
   "source": [
    "t2m"
   ]
  },
  {
   "cell_type": "code",
   "execution_count": 7,
   "metadata": {},
   "outputs": [],
   "source": [
    "import geopandas as gpd\n",
    "\n",
    "malawi_gdf = gpd.read_file('/Users/nikhilsrajan/NASA-Harvest/project/fetch_satdata/data/malawi/mwi_adm_nso_hotosm_20230405_shp/mwi_admbnda_adm0_nso_hotosm_20230405.shp')"
   ]
  },
  {
   "cell_type": "code",
   "execution_count": null,
   "metadata": {},
   "outputs": [],
   "source": [
    "malawi_gdf.crs"
   ]
  },
  {
   "cell_type": "code",
   "execution_count": null,
   "metadata": {},
   "outputs": [],
   "source": [
    "malawi_gdf.envelope.values"
   ]
  },
  {
   "cell_type": "code",
   "execution_count": 24,
   "metadata": {},
   "outputs": [],
   "source": [
    "clipped_t2m = t2m.rio.clip(malawi_gdf.envelope.values, malawi_gdf.crs, drop=True, all_touched=True)"
   ]
  },
  {
   "cell_type": "code",
   "execution_count": null,
   "metadata": {},
   "outputs": [],
   "source": [
    "t2m.shape"
   ]
  },
  {
   "cell_type": "code",
   "execution_count": null,
   "metadata": {},
   "outputs": [],
   "source": [
    "clipped_t2m.shape"
   ]
  },
  {
   "cell_type": "code",
   "execution_count": 27,
   "metadata": {},
   "outputs": [],
   "source": [
    "clipped_t2m.rio.to_raster(\n",
    "    \"../data/malawi_2mtemp_2021_02.tif\",\n",
    "    tiled=True,\n",
    "    compress=\"lzw\",\n",
    ")"
   ]
  },
  {
   "cell_type": "code",
   "execution_count": null,
   "metadata": {},
   "outputs": [],
   "source": [
    "startmonth = 5\n",
    "\n",
    "[(startmonth + i) % 12 + 1 for i in range(24)]"
   ]
  },
  {
   "cell_type": "code",
   "execution_count": 32,
   "metadata": {},
   "outputs": [],
   "source": [
    "def get_dates(\n",
    "    startdate:datetime.datetime,\n",
    "    enddate:datetime.datetime,\n",
    "):\n",
    "    startyear = startdate.year\n",
    "    startmonth = startdate.month\n",
    "    endyear = enddate.year\n",
    "    endmonth = enddate.month\n",
    "\n",
    "    dates = []\n",
    "    \n",
    "    for year in range(startyear, endyear + 1):\n",
    "        month = startmonth if year == startyear else 1\n",
    "        stopmonth = endmonth if year == endyear else 12\n",
    "        while month <= stopmonth:\n",
    "            dates.append(datetime.datetime(year, month, 1))\n",
    "            month += 1\n",
    "\n",
    "    return dates"
   ]
  },
  {
   "cell_type": "code",
   "execution_count": null,
   "metadata": {},
   "outputs": [],
   "source": [
    "get_dates(startdate=datetime.datetime(2020, 6, 12), enddate=datetime.datetime(2022, 4, 27))"
   ]
  },
  {
   "cell_type": "code",
   "execution_count": null,
   "metadata": {},
   "outputs": [],
   "source": []
  }
 ],
 "metadata": {
  "kernelspec": {
   "display_name": ".venv",
   "language": "python",
   "name": "python3"
  },
  "language_info": {
   "codemirror_mode": {
    "name": "ipython",
    "version": 3
   },
   "file_extension": ".py",
   "mimetype": "text/x-python",
   "name": "python",
   "nbconvert_exporter": "python",
   "pygments_lexer": "ipython3",
   "version": "3.10.14"
  }
 },
 "nbformat": 4,
 "nbformat_minor": 2
}
