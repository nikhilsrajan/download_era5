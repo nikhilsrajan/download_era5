{
 "cells": [
  {
   "cell_type": "code",
   "execution_count": 32,
   "metadata": {},
   "outputs": [],
   "source": [
    "import pandas as pd\n",
    "import geopandas as gpd\n",
    "import xarray as xr\n",
    "import shapely"
   ]
  },
  {
   "cell_type": "code",
   "execution_count": 3,
   "metadata": {},
   "outputs": [],
   "source": [
    "import sys\n",
    "sys.path.append('..')"
   ]
  },
  {
   "cell_type": "code",
   "execution_count": 4,
   "metadata": {},
   "outputs": [],
   "source": [
    "import utils"
   ]
  },
  {
   "cell_type": "code",
   "execution_count": 5,
   "metadata": {},
   "outputs": [],
   "source": [
    "catalog_df = pd.read_csv('../data/era5/catalog.csv')"
   ]
  },
  {
   "cell_type": "code",
   "execution_count": null,
   "metadata": {},
   "outputs": [],
   "source": [
    "catalog_df.describe()"
   ]
  },
  {
   "cell_type": "code",
   "execution_count": 7,
   "metadata": {},
   "outputs": [],
   "source": [
    "def get_filepath(\n",
    "    var:str,\n",
    "    date:str,\n",
    "    catalog_df = catalog_df,\n",
    "):\n",
    "    return catalog_df[\n",
    "        (catalog_df['var'] == var) &\n",
    "        (catalog_df['date'] == date)\n",
    "    ]['filepath'].tolist()[0]"
   ]
  },
  {
   "cell_type": "code",
   "execution_count": 8,
   "metadata": {},
   "outputs": [],
   "source": [
    "var = 'total_precipitation'\n",
    "date = '1995-10-01'\n",
    "\n",
    "tp_filepath_19951001 = get_filepath(var = 'total_precipitation', date = '1995-10-01')\n",
    "tp_filepath_19951101 = get_filepath(var = 'total_precipitation', date = '1995-11-01')\n",
    "tp_filepath_19951201 = get_filepath(var = 'total_precipitation', date = '1995-12-01')"
   ]
  },
  {
   "cell_type": "code",
   "execution_count": 9,
   "metadata": {},
   "outputs": [],
   "source": [
    "tp_19951001 = utils.load_total_precipitation_nc_file(nc_filepath = tp_filepath_19951001)\n",
    "tp_19951101 = utils.load_total_precipitation_nc_file(nc_filepath = tp_filepath_19951101)\n",
    "tp_19951201 = utils.load_total_precipitation_nc_file(nc_filepath = tp_filepath_19951201)"
   ]
  },
  {
   "cell_type": "code",
   "execution_count": null,
   "metadata": {},
   "outputs": [],
   "source": [
    "type(tp_19951201)"
   ]
  },
  {
   "cell_type": "code",
   "execution_count": 11,
   "metadata": {},
   "outputs": [],
   "source": [
    "malawi_gdf = gpd.read_file('/gpfs/data1/cmongp1/sasirajann/download_era5/data/shapefiles/mwi_adm_nso_hotosm_20230405_shp/mwi_admbnda_adm0_nso_hotosm_20230405.shp')"
   ]
  },
  {
   "cell_type": "code",
   "execution_count": null,
   "metadata": {},
   "outputs": [],
   "source": [
    "malawi_gdf.geometry.values"
   ]
  },
  {
   "cell_type": "code",
   "execution_count": null,
   "metadata": {},
   "outputs": [],
   "source": [
    "malawi_gdf.crs"
   ]
  },
  {
   "cell_type": "code",
   "execution_count": null,
   "metadata": {},
   "outputs": [],
   "source": [
    "malawi_gdf.envelope.values"
   ]
  },
  {
   "cell_type": "code",
   "execution_count": 15,
   "metadata": {},
   "outputs": [],
   "source": [
    "def clip_data(\n",
    "    data:xr.DataArray,\n",
    "    shapes:list[shapely.Geometry],\n",
    "    crs:str,\n",
    "    drop:bool = True,\n",
    "    all_touched:bool = True,\n",
    "):\n",
    "    return data.rio.clip(shapes, crs, drop=drop, all_touched=all_touched)"
   ]
  },
  {
   "cell_type": "code",
   "execution_count": 16,
   "metadata": {},
   "outputs": [],
   "source": [
    "clipped_tp_19951001 = clip_data(\n",
    "    data=tp_19951001,\n",
    "    shapes=malawi_gdf.envelope.values, \n",
    "    crs=malawi_gdf.crs, \n",
    "    drop=True, \n",
    "    all_touched=True,\n",
    ")\n",
    "\n",
    "clipped_tp_19951101 = clip_data(\n",
    "    data=tp_19951101,\n",
    "    shapes=malawi_gdf.envelope.values, \n",
    "    crs=malawi_gdf.crs, \n",
    "    drop=True, \n",
    "    all_touched=True,\n",
    ")\n",
    "\n",
    "clipped_tp_19951201 = clip_data(\n",
    "    data=tp_19951201,\n",
    "    shapes=malawi_gdf.envelope.values, \n",
    "    crs=malawi_gdf.crs, \n",
    "    drop=True, \n",
    "    all_touched=True,\n",
    ")"
   ]
  },
  {
   "cell_type": "code",
   "execution_count": null,
   "metadata": {},
   "outputs": [],
   "source": [
    "clipped_tp_19951001.shape, clipped_tp_19951101.shape, clipped_tp_19951201.shape"
   ]
  },
  {
   "cell_type": "code",
   "execution_count": 28,
   "metadata": {},
   "outputs": [],
   "source": [
    "clipped_tp_concat = xr.concat([\n",
    "    clipped_tp_19951001,\n",
    "    clipped_tp_19951101,\n",
    "    clipped_tp_19951201,\n",
    "], dim='valid_time')"
   ]
  },
  {
   "cell_type": "code",
   "execution_count": null,
   "metadata": {},
   "outputs": [],
   "source": [
    "clipped_tp_concat.valid_time"
   ]
  },
  {
   "cell_type": "code",
   "execution_count": null,
   "metadata": {},
   "outputs": [],
   "source": []
  }
 ],
 "metadata": {
  "kernelspec": {
   "display_name": "env_download_era5",
   "language": "python",
   "name": "python3"
  },
  "language_info": {
   "codemirror_mode": {
    "name": "ipython",
    "version": 3
   },
   "file_extension": ".py",
   "mimetype": "text/x-python",
   "name": "python",
   "nbconvert_exporter": "python",
   "pygments_lexer": "ipython3",
   "version": "3.10.18"
  }
 },
 "nbformat": 4,
 "nbformat_minor": 2
}
